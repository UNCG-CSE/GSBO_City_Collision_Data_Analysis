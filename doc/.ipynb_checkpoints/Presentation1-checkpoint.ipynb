{
 "cells": [
  {
   "cell_type": "markdown",
   "metadata": {
    "slideshow": {
     "slide_type": "slide"
    }
   },
   "source": [
    "# GSBO City collision data analysis\n",
    "\n",
    "## Team 6\n",
    "\n"
   ]
  },
  {
   "cell_type": "markdown",
   "metadata": {
    "slideshow": {
     "slide_type": "slide"
    }
   },
   "source": [
    "## Overview\n",
    "- The desire from our mentor, is to help the city of Greensboro reduce the number of fatal incidents to zero. \n",
    "  From the given data, we will attempt to discover a pattern that is unrelated to user error.  "
   ]
  },
  {
   "cell_type": "markdown",
   "metadata": {
    "slideshow": {
     "slide_type": "slide"
    }
   },
   "source": [
    "## Goals\n",
    "- The goal is to analyze collisions and to know the correlation between \n",
    "  various elements that cause accidents, identify patterns in order to \n",
    "  help the city of Greensboro reduce the number of fatalities from vehicular incidents.\n",
    "- Learn to utilize GIS(Geographic Information System) to help visualize the raw data.\n"
   ]
  },
  {
   "cell_type": "markdown",
   "metadata": {
    "slideshow": {
     "slide_type": "slide"
    }
   },
   "source": [
    "## Tasks\n",
    "- Study the raw data to get to know about it.\n",
    "- Clean the data to start working on it.\n",
    "- Visualize the data.\n",
    "- Find correlations between various elements in the data\n"
   ]
  },
  {
   "cell_type": "markdown",
   "metadata": {
    "slideshow": {
     "slide_type": "slide"
    }
   },
   "source": [
    "## Data\n",
    "- We have 2 categories of raw data, one that has comma separated values and the other one that has geo spatial data in the form of shape files.\n",
    "- The CSV files has all the information about about collisions like place, number of fatalities, severity of the accidents and so on.\n",
    "- Data statistics - 11,686 kb - CSV files , more than 60 shape files(geo spatial data)\n"
   ]
  },
  {
   "cell_type": "markdown",
   "metadata": {
    "slideshow": {
     "slide_type": "slide"
    }
   },
   "source": [
    "## Related work\n",
    "- Reducing motor vehicle accidents deaths and injuries have been a work in progress \n",
    "  in most countries. The inspiration to reduce the number of deaths from road \n",
    "  incidents comes from Sweden.  "
   ]
  },
  {
   "cell_type": "markdown",
   "metadata": {
    "slideshow": {
     "slide_type": "slide"
    }
   },
   "source": [
    "## Areas of Interest\n",
    "- intersections\n",
    "  - Non-signalized intersections at night time have a high index of pedestrian collision.\n",
    "  - Higher chance for an accident with increased complexity of intersections.\n",
    "    - Mussone, L., Ferrari, A., & Oneta, M. (1999). An analysis of urban collisions \n",
    "      using an artificial intelligence model. Accident Analysis & Prevention, 31(6), 705-718.\n",
    "  - Urban intersections pose safety concerns for vehicle-pedestrian collision.\n",
    "    - Lyon, C., & Persaud, B. (2002). Pedestrian collision prediction models for urban intersections. \n",
    "      Transportation research record, 1818(1), 102-107.\n",
    "  - Total approach volumes, the uncontrolled left-turn lane and the presence of a surveillance \n",
    "    camera are highly significant for safety of an intersection.\n",
    "    - Chin, H. C., & Quddus, M. A. (2003). Applying the random effect negative binomial model to \n",
    "      examine traffic accident occurrence at signalized intersections. \n",
    "      Accident Analysis & Prevention, 35(2), 253-259.\n",
    "\n"
   ]
  },
  {
   "cell_type": "markdown",
   "metadata": {
    "slideshow": {
     "slide_type": "slide"
    }
   },
   "source": [
    "## Areas of Interest\n",
    "- Infrastructure\n",
    "  - the relationship between crash frequency and exposure varies by segment type.\n",
    "    - Zhang, Y., Xie, Y., & Li, L. (2012). Crash frequency analysis of different types of urban \n",
    "      roadway segments using generalized additive model. Journal of safety research, 43(2), 107-114.\n",
    "  - local environment and road infrastructure play a substantial role in the co-occurrence of road accidents.\n",
    "    - Flahaut, B. (2004). Impact of infrastructure and local environment on road unsafety: \n",
    "      Logistic modeling with spatial autocorrelation. Accident Analysis & Prevention, 36(6), 1055-1066."
   ]
  },
  {
   "cell_type": "markdown",
   "metadata": {
    "slideshow": {
     "slide_type": "slide"
    }
   },
   "source": [
    "## Area of Interest\n",
    "- Speed Limit\n",
    "  - Speed limit increase has significantly increased the total and fatal collision rates and counts.\n",
    "    - Haselton, C. B., Gibby, A. R., & Ferrara, T. C. (2002). Methodologies used to analyze collision \n",
    "      experience associated with speed limit changes on selected California highways. Transportation \n",
    "      research record, 1784(1), 65-72.\n",
    "  - Accident severity is influenced more by volume than by speed (controlling for weather and lighting conditions).\n",
    "    -Golob, T. F., & Recker, W. W. (2003). Relationships among urban freeway accidents, traffic flow, weather, \n",
    "     and lighting conditions. Journal of transportation engineering, 129(4), 342-353.\n",
    "        "
   ]
  },
  {
   "cell_type": "markdown",
   "metadata": {},
   "source": [
    "## Area of Interest\n",
    "- Other Considerations\n",
    "  - Golob, T. F., & Recker, W. W. (2003). Relationships among urban freeway accidents, traffic flow, weather, \n",
    "    and lighting conditions. Journal of transportation engineering, 129(4), 342-353.\n",
    "    - Abdel-Aty, M. A., & Radwan, A. E. (2000). Modeling traffic accident occurrence and involvement. \n",
    "      Accident Analysis & Prevention, 32(5), 633-642.\n",
    "  - Traffic congestion has little or no impact on the frequency of road accidents\n",
    "    - Wang, C., Quddus, M. A., & Ison, S. G. (2009). Impact of traffic congestion on road accidents: \n",
    "      A spatial analysis of the M25 motorway in England. Accident Analysis & Prevention, 41(4), 798-808.\n",
    "  - Road stretches and isolated zones are the hotspots for accidents.\n",
    "    - Prasannakumar, V., Vijith, H., Charutha, R., & Geetha, N. (2011). Spatio-temporal clustering of \n",
    "      road accidents: GIS based analysis and assessment. Procedia-Social and Behavioral Sciences, 21, 317-325.\n",
    "    "
   ]
  }
 ],
 "metadata": {
  "celltoolbar": "Slideshow",
  "kernelspec": {
   "display_name": "Python 3",
   "language": "python",
   "name": "python3"
  },
  "language_info": {
   "codemirror_mode": {
    "name": "ipython",
    "version": 3
   },
   "file_extension": ".py",
   "mimetype": "text/x-python",
   "name": "python",
   "nbconvert_exporter": "python",
   "pygments_lexer": "ipython3",
   "version": "3.6.5"
  }
 },
 "nbformat": 4,
 "nbformat_minor": 2
}
