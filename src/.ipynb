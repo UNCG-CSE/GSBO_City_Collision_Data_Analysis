{
 "cells": [
  {
   "cell_type": "code",
   "execution_count": 1,
   "metadata": {},
   "outputs": [],
   "source": [
    "import pandas as pd\n",
    "from matplotlib import pyplot as plt\n",
    "import os"
   ]
  },
  {
   "cell_type": "code",
   "execution_count": 2,
   "metadata": {},
   "outputs": [],
   "source": [
    "current_directory = \"data/Excel_sheets\"\n",
    "files = os.listdir(current_directory)\n",
    "data = pd.read_excel(current_directory + \"/\" +files[0])"
   ]
  },
  {
   "cell_type": "code",
   "execution_count": 3,
   "metadata": {
    "scrolled": true
   },
   "outputs": [
    {
     "name": "stdout",
     "output_type": "stream",
     "text": [
      "35 170\n"
     ]
    }
   ],
   "source": [
    "countY = 0\n",
    "countN = 0\n",
    "for i in data[\"ALCOHOL\"]:\n",
    "    if i == \"Y\":\n",
    "        countY += 1\n",
    "    else:\n",
    "        countN += 1\n",
    "print(countY, countN)"
   ]
  },
  {
   "cell_type": "code",
   "execution_count": 20,
   "metadata": {
    "scrolled": true
   },
   "outputs": [
    {
     "data": {
      "image/png": "[encoded data removed]",
      "text/plain": [
       "<Figure size 432x288 with 1 Axes>"
      ]
     },
     "metadata": {
      "needs_background": "light"
     },
     "output_type": "display_data"
    }
   ],
   "source": [
    "plt.bar([1,2],[countN,countY])\n",
    "plt.xticks([1,2],[\"No\",\"Yes\"])\n",
    "plt.ylabel(\"Occurances of alcohol\")\n",
    "plt.xlabel(\"Is there alcohol?\")\n",
    "plt.title(\"Occurances of Alcohol in these fatalities\")\n",
    "plt.show()"
   ]
  },
  {
   "cell_type": "code",
   "execution_count": null,
   "metadata": {},
   "outputs": [],
   "source": []
  }
 ],
 "metadata": {
  "kernelspec": {
   "display_name": "Python 3",
   "language": "python",
   "name": "python3"
  },
  "language_info": {
   "codemirror_mode": {
    "name": "ipython",
    "version": 3
   },
   "file_extension": ".py",
   "mimetype": "text/x-python",
   "name": "python",
   "nbconvert_exporter": "python",
   "pygments_lexer": "ipython3",
   "version": "3.7.3"
  }
 },
 "nbformat": 4,
 "nbformat_minor": 2
}
