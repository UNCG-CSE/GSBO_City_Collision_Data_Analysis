{
 "cells": [
  {
   "cell_type": "code",
   "execution_count": 6,
   "metadata": {},
   "outputs": [],
   "source": [
    "%matplotlib inline\n",
    "import matplotlib.pyplot as plt\n",
    "import pandas as pd\n",
    "import numpy as np\n",
    "import seaborn as sns\n",
    "import datetime\n",
    "\n",
    "# Set some Pandas options\n",
    "pd.set_option('notebook_repr_html', False)\n",
    "pd.set_option('max_columns', 30)\n",
    "pd.set_option('max_rows', 20)\n",
    "#max rows and columns are important not to crash the notebook"
   ]
  },
  {
   "cell_type": "code",
   "execution_count": 7,
   "metadata": {},
   "outputs": [
    {
     "data": {
      "text/plain": [
       "       OBJECTID  Shape                              ADDRESS  \\\n",
       "0         28948    NaN         E CONE BLVD / N O HENRY BLVD   \n",
       "1         28949    NaN             N CHURCH ST / CHARLES ST   \n",
       "2         28950    NaN  JOSEPH M BRYAN BLVD / NEW GARDEN RD   \n",
       "3         28951    NaN              W MARKET ST / N TATE ST   \n",
       "4         28952    NaN           PHILLIPS AV / N ENGLISH ST   \n",
       "5         28953    NaN              SUMMIT AV / PHILLIPS AV   \n",
       "6         28954    NaN       E BESSEMER AV / YANCEYVILLE ST   \n",
       "7         28955    NaN      BATTLEGROUND AV / W BESSEMER AV   \n",
       "8         28956    NaN             E BESSEMER AV / SYKES AV   \n",
       "9         28957    NaN         E LINDSAY ST / E WENDOVER AV   \n",
       "...         ...    ...                                  ...   \n",
       "51994    100175    NaN          E GATE CITY BLVD / MACON ST   \n",
       "51995    100164    NaN            E WENDOVER AV / ELWELL AV   \n",
       "51996    100165    NaN                               I 40 W   \n",
       "51997    100174    NaN          E WENDOVER AV / N CHURCH ST   \n",
       "51998    100168    NaN                 US 29 N / TEXTILE DR   \n",
       "51999    100170    NaN                           FLEMING RD   \n",
       "52000    100169    NaN                               I-40 W   \n",
       "52001    100171    NaN                              US-29 N   \n",
       "52002    100180    NaN         WEBSTER RD / E ELM-EUGENE ST   \n",
       "52003    100173    NaN              OAKLAND AV / CHAPMAN CT   \n",
       "\n",
       "                                          ACCIDENT_CAUSE  \\\n",
       "0                          NO CONTRIBUTING CIRCUMSTANCES   \n",
       "1                                        INATTENTIVENESS   \n",
       "2                                        INATTENTIVENESS   \n",
       "3                                                ALCOHOL   \n",
       "4                                        INATTENTIVENESS   \n",
       "5                                        INATTENTIVENESS   \n",
       "6                                        INATTENTIVENESS   \n",
       "7                                        INATTENTIVENESS   \n",
       "8                                                ALCOHOL   \n",
       "9                          NO CONTRIBUTING CIRCUMSTANCES   \n",
       "...                                                  ...   \n",
       "51994                      NO CONTRIBUTING CIRCUMSTANCES   \n",
       "51995  OPERATED VEHICLE IN CARELESS MANNER / EXCEEDED...   \n",
       "51996  INATTENTION / IMPROPER LANE CHANGE / NO CONTRI...   \n",
       "51997        INATTENTION / NO CONTRIBUTING CIRCUMSTANCES   \n",
       "51998                      NO CONTRIBUTING CIRCUMSTANCES   \n",
       "51999  CROSSED CENTERLINE / GOING WRONG WAY / OVERCOR...   \n",
       "52000  FAILURE TO REDUCE SPEED / OVERCORRECTED / OVER...   \n",
       "52001                      NO CONTRIBUTING CIRCUMSTANCES   \n",
       "52002  FAILURE TO REDUCE SPEED / NO CONTRIBUTING CIRC...   \n",
       "52003  CROSSED CENTERLINE / FAILURE TO REDUCE SPEED /...   \n",
       "\n",
       "                                        COLLISION_DESC WEATHER  \\\n",
       "0                                                ANGLE   CLEAR   \n",
       "1                                 RAN OFF ROAD - RIGHT   CLEAR   \n",
       "2                                 RAN OFF ROAD - RIGHT   CLEAR   \n",
       "3                               REAR END, SLOW OR STOP   CLEAR   \n",
       "4                                                ANGLE   CLEAR   \n",
       "5                                 RAN OFF ROAD - RIGHT   CLEAR   \n",
       "6                                              HEAD ON   CLEAR   \n",
       "7                                        FIXED OBJECT*   CLEAR   \n",
       "8                              LEFT TURN, SAME ROADWAY  CLOUDY   \n",
       "9                                                ANGLE   CLEAR   \n",
       "...                                                ...     ...   \n",
       "51994                                       PEDESTRIAN    RAIN   \n",
       "51995                          LEFT TURN, SAME ROADWAY  CLOUDY   \n",
       "51996  SIDESWIPE, SAME DIRECTION / OVERTURN / ROLLOVER   CLEAR   \n",
       "51997                                       PEDESTRIAN    RAIN   \n",
       "51998                                       PEDESTRIAN   CLEAR   \n",
       "51999             RAN OFF ROAD - RIGHT / FIXED OBJECT*   CLEAR   \n",
       "52000       RAN OFF ROAD - RIGHT / OVERTURN / ROLLOVER   CLEAR   \n",
       "52001                                       PEDESTRIAN    RAIN   \n",
       "52002    OTHER COLLISION WITH VEHICLE* / FIXED OBJECT*   CLEAR   \n",
       "52003        RAN OFF ROAD - LEFT / OVERTURN / ROLLOVER    RAIN   \n",
       "\n",
       "                 LIGHT_CONDITIONS            ROAD_CLASS     TRAFFIC_CONTROL  \\\n",
       "0          DARK - LIGHTED ROADWAY                 LOCAL  STOP AND GO SIGNAL   \n",
       "1          DARK - LIGHTED ROADWAY                 LOCAL  NO CONTROL PRESENT   \n",
       "2      DARK - ROADWAY NOT LIGHTED                 LOCAL  NO CONTROL PRESENT   \n",
       "3          DARK - LIGHTED ROADWAY                 LOCAL  STOP AND GO SIGNAL   \n",
       "4          DARK - LIGHTED ROADWAY                 LOCAL  STOP AND GO SIGNAL   \n",
       "5          DARK - LIGHTED ROADWAY                 LOCAL  NO CONTROL PRESENT   \n",
       "6          DARK - LIGHTED ROADWAY                 LOCAL  STOP AND GO SIGNAL   \n",
       "7                        DAYLIGHT  PUBLIC VEHICULAR WAY  NO CONTROL PRESENT   \n",
       "8                        DAYLIGHT                 LOCAL           STOP SIGN   \n",
       "9                        DAYLIGHT                 LOCAL  STOP AND GO SIGNAL   \n",
       "...                           ...                   ...                 ...   \n",
       "51994      DARK - LIGHTED ROADWAY                 LOCAL  NO CONTROL PRESENT   \n",
       "51995      DARK - LIGHTED ROADWAY                 LOCAL  STOP AND GO SIGNAL   \n",
       "51996                        DUSK            INTERSTATE  NO CONTROL PRESENT   \n",
       "51997      DARK - LIGHTED ROADWAY                 LOCAL  NO CONTROL PRESENT   \n",
       "51998      DARK - LIGHTED ROADWAY              US ROUTE  NO CONTROL PRESENT   \n",
       "51999  DARK - ROADWAY NOT LIGHTED                 LOCAL  NO CONTROL PRESENT   \n",
       "52000      DARK - LIGHTED ROADWAY            INTERSTATE  NO CONTROL PRESENT   \n",
       "52001      DARK - LIGHTED ROADWAY              US ROUTE  NO CONTROL PRESENT   \n",
       "52002                    DAYLIGHT                 LOCAL           STOP SIGN   \n",
       "52003  DARK - ROADWAY NOT LIGHTED                 LOCAL  NO CONTROL PRESENT   \n",
       "\n",
       "      PEDESTRIAN_REL HIT_RUN  INJURED  FATALITY  TOTAL_DAMAGE  \\\n",
       "0                 NO      NO      0.0       0.0        1400.0   \n",
       "1                 NO      NO      0.0       0.0        2000.0   \n",
       "2                 NO      NO      1.0       0.0       10000.0   \n",
       "3                 NO      NO      0.0       0.0           0.0   \n",
       "4                 NO     Yes      0.0       0.0        4000.0   \n",
       "5                 NO     Yes      0.0       0.0        6000.0   \n",
       "6                 NO      NO      0.0       0.0       42000.0   \n",
       "7                 NO      NO      0.0       0.0        6000.0   \n",
       "8                 NO      NO      1.0       0.0         100.0   \n",
       "9                 NO      NO      2.0       0.0        5000.0   \n",
       "...              ...     ...      ...       ...           ...   \n",
       "51994            NaN       N      0.0       1.0        2500.0   \n",
       "51995            NaN       N      2.0       1.0       14000.0   \n",
       "51996            NaN       N      0.0       1.0        9500.0   \n",
       "51997            NaN       N      0.0       1.0        2500.0   \n",
       "51998            NaN       N      0.0       1.0        2000.0   \n",
       "51999            NaN       N      0.0       1.0        8000.0   \n",
       "52000            NaN       N      0.0       1.0        6000.0   \n",
       "52001            NaN       N      0.0       1.0        3500.0   \n",
       "52002            NaN       N      1.0       1.0       13500.0   \n",
       "52003            NaN       Y      1.0       1.0        7000.0   \n",
       "\n",
       "            ACCIDENT_DATE  ACCIDENT_YEAR  UNIQUE_RECORD_ID          X  \\\n",
       "0     2014-01-01 01:40:33           2014               NaN -79.758266   \n",
       "1     2014-01-01 00:31:36           2014               NaN -79.783984   \n",
       "2     2014-01-01 02:05:22           2014               NaN -79.860375   \n",
       "3     2014-01-01 02:28:44           2014               NaN -79.805457   \n",
       "4     2014-01-01 02:43:30           2014               NaN -79.755762   \n",
       "5     2014-01-01 03:04:43           2014               NaN -79.764142   \n",
       "6     2014-01-01 03:44:27           2014               NaN -79.782415   \n",
       "7     2014-01-01 12:05:17           2014               NaN -79.807337   \n",
       "8     2014-01-01 12:10:59           2014               NaN -79.747102   \n",
       "9     2014-01-01 12:54:59           2014               NaN -79.769352   \n",
       "...                   ...            ...               ...        ...   \n",
       "51994 2018-06-25 00:00:00           2018               NaN -79.781123   \n",
       "51995 2018-06-27 00:00:00           2018               NaN -79.743671   \n",
       "51996 2018-06-29 00:00:00           2018               NaN -80.011622   \n",
       "51997 2018-09-14 00:00:00           2018               NaN -79.785251   \n",
       "51998 2018-10-08 00:00:00           2018               NaN -79.765538   \n",
       "51999 2018-10-19 00:00:00           2018               NaN -79.923954   \n",
       "52000 2018-10-20 00:00:00           2018               NaN -79.826975   \n",
       "52001 2018-10-26 00:00:00           2018               NaN -79.765480   \n",
       "52002 2018-11-10 00:00:00           2018               NaN -79.793852   \n",
       "52003 2018-11-13 00:00:00           2018               NaN -79.823521   \n",
       "\n",
       "               Y BIPED                  SEVERITY  SEVERITY_CD  A_INJURIES  \\\n",
       "0      36.112791   NaN               O No Injury          5.0         0.0   \n",
       "1      36.119809   NaN               O No Injury          5.0         0.0   \n",
       "2      36.118093   NaN   B Type Injury (Evident)          3.0         0.0   \n",
       "3      36.073288   NaN               O No Injury          5.0         0.0   \n",
       "4      36.097702   NaN               O No Injury          5.0         0.0   \n",
       "5      36.103605   NaN               O No Injury          5.0         0.0   \n",
       "6      36.085915   NaN               O No Injury          5.0         0.0   \n",
       "7      36.085687   NaN               O No Injury          5.0         0.0   \n",
       "8      36.085045   NaN  C Type Injury (Possible)          4.0         0.0   \n",
       "9      36.087833   NaN  C Type Injury (Possible)          4.0         0.0   \n",
       "...          ...   ...                       ...          ...         ...   \n",
       "51994  36.064823     P                       NaN          NaN         NaN   \n",
       "51995  36.087690   NaN                       NaN          NaN         NaN   \n",
       "51996  36.097105   NaN                       NaN          NaN         NaN   \n",
       "51997  36.087799     P                       NaN          NaN         NaN   \n",
       "51998  36.093343     P                       NaN          NaN         NaN   \n",
       "51999  36.146778   NaN                       NaN          NaN         NaN   \n",
       "52000  36.039201   NaN                       NaN          NaN         NaN   \n",
       "52001  36.096089     P                       NaN          NaN         NaN   \n",
       "52002  36.009203   NaN                       NaN          NaN         NaN   \n",
       "52003  36.062215   NaN                       NaN          NaN         NaN   \n",
       "\n",
       "       B_INJURIES  C_INJURIES     CASE_NUM DEPARTMENT  \n",
       "0             0.0         0.0  20140101010        NaN  \n",
       "1             0.0         0.0  20140101017        NaN  \n",
       "2             1.0         0.0  20140101038        NaN  \n",
       "3             0.0         0.0  20140101044        NaN  \n",
       "4             0.0         0.0  20140101047        NaN  \n",
       "5             0.0         0.0  20140101049        NaN  \n",
       "6             0.0         0.0  20140101057        NaN  \n",
       "7             0.0         0.0  20140101144        NaN  \n",
       "8             0.0         1.0  20140101149        NaN  \n",
       "9             0.0         2.0  20140101167        NaN  \n",
       "...           ...         ...          ...        ...  \n",
       "51994         NaN         NaN  20180625225        NaN  \n",
       "51995         NaN         NaN  20180627311        NaN  \n",
       "51996         NaN         NaN  20180629245        NaN  \n",
       "51997         NaN         NaN  20180914207        NaN  \n",
       "51998         NaN         NaN  20181008288        NaN  \n",
       "51999         NaN         NaN  20181019020        NaN  \n",
       "52000         NaN         NaN  20181021003        NaN  \n",
       "52001         NaN         NaN  20181026244        NaN  \n",
       "52002         NaN         NaN  20181110224        NaN  \n",
       "52003         NaN         NaN  20181114002        NaN  \n",
       "\n",
       "[52004 rows x 27 columns]"
      ]
     },
     "execution_count": 7,
     "metadata": {},
     "output_type": "execute_result"
    }
   ],
   "source": [
    "all_data = pd.read_excel(\"..//Data/traffic-collision/Collisions.xlsx\", sheet_name = 'All_Collisions_1')\n",
    "all_data"
   ]
  },
  {
   "cell_type": "markdown",
   "metadata": {},
   "source": [
    "### Data Cleaning"
   ]
  },
  {
   "cell_type": "code",
   "execution_count": 8,
   "metadata": {},
   "outputs": [
    {
     "data": {
      "text/plain": [
       "OBJECTID                0\n",
       "Shape               52004\n",
       "ADDRESS                22\n",
       "ACCIDENT_CAUSE         96\n",
       "COLLISION_DESC          4\n",
       "WEATHER                26\n",
       "LIGHT_CONDITIONS       26\n",
       "ROAD_CLASS             24\n",
       "TRAFFIC_CONTROL        45\n",
       "PEDESTRIAN_REL        900\n",
       "                    ...  \n",
       "X                       0\n",
       "Y                       0\n",
       "BIPED               50859\n",
       "SEVERITY              132\n",
       "SEVERITY_CD           132\n",
       "A_INJURIES            132\n",
       "B_INJURIES            132\n",
       "C_INJURIES            132\n",
       "CASE_NUM                0\n",
       "DEPARTMENT          40778\n",
       "Length: 27, dtype: int64"
      ]
     },
     "execution_count": 8,
     "metadata": {},
     "output_type": "execute_result"
    }
   ],
   "source": [
    "all_data.isnull().sum()"
   ]
  },
  {
   "cell_type": "code",
   "execution_count": 9,
   "metadata": {},
   "outputs": [
    {
     "data": {
      "text/plain": [
       "ANGLE                                                                                                                                                   11094\n",
       "REAR END, SLOW OR STOP                                                                                                                                  10907\n",
       "SIDESWIPE, SAME DIRECTION                                                                                                                                3925\n",
       "Rear End, Slow Or Stop                                                                                                                                   2714\n",
       "Angle                                                                                                                                                    2601\n",
       "RAN OFF ROAD - RIGHT                                                                                                                                     2473\n",
       "BACKING UP                                                                                                                                               2405\n",
       "FIXED OBJECT*                                                                                                                                            1556\n",
       "RAN OFF ROAD - LEFT                                                                                                                                      1483\n",
       "LEFT TURN, SAME ROADWAY                                                                                                                                  1183\n",
       "                                                                                                                                                        ...  \n",
       "LEFT TURN SAME ROADWAY/ ANGLE                                                                                                                               1\n",
       "OPERATED VEHICLE IN ERRATIC, RECKLESS, CARELESS, NEGLIGENT OR AGGRESSIVE MANNER / ALCOHOL USE / EXCEEDED AUTHORIZED SPEED LIMIT\\r\\n\\r\\nALCOHOL USE\\r        1\n",
       "RAN OFF ROAD-LEFT/FIXED OBJECT                                                                                                                              1\n",
       "OTHER NON-COLLISION/ANGLE                                                                                                                                   1\n",
       "ANGLE / BACKING UP                                                                                                                                          1\n",
       "RAN OFF THE ROAD-LEFT/REAR END, SLOW OR STOP                                                                                                                1\n",
       "NO CONTRIBUTING CIRCUMSTANCES INDICATED                                                                                                                     1\n",
       "LEFT TURN, DIFFERENT ROADWAYS/PEDALCYCLIST                                                                                                                  1\n",
       "REAR END OR SLOW STOP                                                                                                                                       1\n",
       "SIDESWIPE,DIFFERENT DIRECTION                                                                                                                               1\n",
       "Name: COLLISION_DESC, Length: 130, dtype: int64"
      ]
     },
     "execution_count": 9,
     "metadata": {},
     "output_type": "execute_result"
    }
   ],
   "source": [
    "all_data.COLLISION_DESC.value_counts()"
   ]
  },
  {
   "cell_type": "code",
   "execution_count": 10,
   "metadata": {},
   "outputs": [
    {
     "data": {
      "text/plain": [
       "NO        50003\n",
       "YES        1074\n",
       "N            20\n",
       "<Null>        4\n",
       "MO            1\n",
       "-             1\n",
       "no            1\n",
       "Name: PEDESTRIAN_REL, dtype: int64"
      ]
     },
     "execution_count": 10,
     "metadata": {},
     "output_type": "execute_result"
    }
   ],
   "source": [
    "all_data.PEDESTRIAN_REL.value_counts()"
   ]
  },
  {
   "cell_type": "code",
   "execution_count": 11,
   "metadata": {},
   "outputs": [
    {
     "data": {
      "text/plain": [
       "NO     51230\n",
       "YES      774\n",
       "Name: PEDESTRIAN_REL, dtype: int64"
      ]
     },
     "execution_count": 11,
     "metadata": {},
     "output_type": "execute_result"
    }
   ],
   "source": [
    "all_data.loc[all_data[\"COLLISION_DESC\"].str.contains(\"PEDESTRIAN\", na=False) == False, \"PEDESTRIAN_REL\"] = \"NO\"\n",
    "all_data.loc[all_data[\"COLLISION_DESC\"].str.contains(\"PEDESTRIAN\", na=False), \"PEDESTRIAN_REL\"] = \"YES\"\n",
    "all_data.PEDESTRIAN_REL.value_counts()"
   ]
  },
  {
   "cell_type": "code",
   "execution_count": 12,
   "metadata": {},
   "outputs": [
    {
     "data": {
      "text/plain": [
       "P         921\n",
       "B         210\n",
       "<Null>     12\n",
       "p           2\n",
       "Name: BIPED, dtype: int64"
      ]
     },
     "execution_count": 12,
     "metadata": {},
     "output_type": "execute_result"
    }
   ],
   "source": [
    "all_data.BIPED.value_counts()"
   ]
  },
  {
   "cell_type": "code",
   "execution_count": 13,
   "metadata": {},
   "outputs": [
    {
     "data": {
      "text/plain": [
       "M    51111\n",
       "P      774\n",
       "B      119\n",
       "Name: BIPED, dtype: int64"
      ]
     },
     "execution_count": 13,
     "metadata": {},
     "output_type": "execute_result"
    }
   ],
   "source": [
    "targets = ['PEDESTRIAN', 'CYCLIST']\n",
    "#all_data.loc[all_data[\"COLLISION_DESC\"].apply(lambda sentence: any(word in sentence for word in targets)) == False, 'BIPED'] = 'N'\n",
    "all_data.loc[(~all_data[\"COLLISION_DESC\"].str.contains(\"PEDESTRIAN\", na=False)) &\n",
    "             (~all_data[\"COLLISION_DESC\"].str.contains(\"CYCLIST\", na=False)), 'BIPED'] = 'M'\n",
    "all_data.loc[all_data[\"COLLISION_DESC\"].str.contains(\"PEDESTRIAN\", na=False), 'BIPED'] = 'P'\n",
    "all_data.loc[all_data[\"COLLISION_DESC\"].str.contains(\"CYCLIST\", na=False), 'BIPED'] = 'B'\n",
    "#all_all_data.loc[all_data[\"COLLISION_DESC\"].str.contains(\"PEDESTRIAN\", na=False) == False, \"PEDESTRIAN_REL\"] = \"NO\"data.loc[all_data[\"COLLISION_DESC\"].str.contains(\"CYCLIST\", na=False), \"PE_CY_MO\"] = \"CY\"\n",
    "all_data.BIPED.value_counts()"
   ]
  },
  {
   "cell_type": "code",
   "execution_count": 9,
   "metadata": {},
   "outputs": [
    {
     "data": {
      "text/plain": [
       "DAYLIGHT                        29937\n",
       "Daylight                         6806\n",
       "DARK-LIGHTED ROADWAY             6299\n",
       "DARK - LIGHTED ROADWAY           2370\n",
       "Dark - Lighted Roadway           2069\n",
       "DARK-ROADWAY NOT LIGHTED         1181\n",
       "DUSK                             1123\n",
       "DARK - ROADWAY NOT LIGHTED        494\n",
       "Dark - Roadway Not Lighted        486\n",
       "DAWN                              403\n",
       "                                ...  \n",
       "DARK ROADWAY-NOT LIGHTED            1\n",
       "DARK - LIGHTED ROADWAY\\r            1\n",
       "DARK - LIGHTED ROADWAR              1\n",
       "DARK-LIGHTED ORADWAY                1\n",
       "DARK-RAODWAY NOT LIGHTED            1\n",
       "DARK - ROADWAY NOT LIGHTED\\r        1\n",
       "DARK - LIGHTED WAY                  1\n",
       "DARK - UNKNOWN LIGHTING\\r           1\n",
       "SNOW                                1\n",
       "RAIN                                1\n",
       "Name: LIGHT_CONDITIONS, Length: 42, dtype: int64"
      ]
     },
     "execution_count": 9,
     "metadata": {},
     "output_type": "execute_result"
    }
   ],
   "source": [
    "all_data.LIGHT_CONDITIONS.value_counts()"
   ]
  },
  {
   "cell_type": "code",
   "execution_count": 10,
   "metadata": {},
   "outputs": [
    {
     "data": {
      "text/plain": [
       "DAYLIGHT                        29937\n",
       "Daylight                         6806\n",
       "DARK-LIGHTED ROADWAY             6299\n",
       "DARK - LIGHTED ROADWAY           2370\n",
       "Dark - Lighted Roadway           2069\n",
       "DARK-ROADWAY NOT LIGHTED         1181\n",
       "DUSK                             1123\n",
       "DARK - ROADWAY NOT LIGHTED        494\n",
       "Dark - Roadway Not Lighted        486\n",
       "DAWN                              403\n",
       "                                ...  \n",
       "DARK ROADWAY-NOT LIGHTED            1\n",
       "DARK - LIGHTED ROADWAY\\r            1\n",
       "DARK - LIGHTED ROADWAR              1\n",
       "DARK-LIGHTED ORADWAY                1\n",
       "DARK-RAODWAY NOT LIGHTED            1\n",
       "DARK - ROADWAY NOT LIGHTED\\r        1\n",
       "DARK - LIGHTED WAY                  1\n",
       "DARK - UNKNOWN LIGHTING\\r           1\n",
       "SNOW                                1\n",
       "RAIN                                1\n",
       "Name: LIGHT_CONDITIONS, Length: 42, dtype: int64"
      ]
     },
     "execution_count": 10,
     "metadata": {},
     "output_type": "execute_result"
    }
   ],
   "source": [
    "all_data.LIGHT_CONDITIONS.value_counts()"
   ]
  },
  {
   "cell_type": "code",
   "execution_count": 11,
   "metadata": {},
   "outputs": [
    {
     "data": {
      "text/plain": [
       "DAYLIGHT                      36744\n",
       "DARK-LIGHTED ROADWAY          10772\n",
       "DARK - ROADWAY NOT LIGHTED     2171\n",
       "DUSK                           1387\n",
       "DAWN                            523\n",
       "UNKNOWN                         194\n",
       "DARK-UNKNOWN LIGHTING           154\n",
       "OTHER                            23\n",
       "CLOUDY                            4\n",
       "SNOW                              1\n",
       "SEVERE CROSSWINDS                 1\n",
       "DARK - LIGHTED ROADWAY\\r          1\n",
       "BLOWING SAND, DIRT, SNOW          1\n",
       "RAIN                              1\n",
       "DARK ROADWAY-NOT LIGHTED          1\n",
       "Name: LIGHT_CONDITIONS, dtype: int64"
      ]
     },
     "execution_count": 11,
     "metadata": {},
     "output_type": "execute_result"
    }
   ],
   "source": [
    "all_data.loc[all_data['LIGHT_CONDITIONS'].isin(['Daylight', 'DAYLGHT']), 'LIGHT_CONDITIONS'] = 'DAYLIGHT'\n",
    "all_data.loc[all_data['LIGHT_CONDITIONS'].isin(['DARK - LIGHTED ROADWAY', 'Dark - Lighted Roadway', \n",
    "                                               'DARK-LIGHTED ORADWAY', 'DARL-LIGHTED ROADWAY',\n",
    "                                               'DARK - LIGHTED ROADAY', 'DARK - LIGHTED ROADWAR',\n",
    "                                               'DARK - LIGHT ROADWAY', 'DARK - LIGHTED WAY',\n",
    "                                               'DARK LIGHTED ROADWAY', 'DARK- LIGHTED ROADWAY']),'LIGHT_CONDITIONS'] = 'DARK-LIGHTED ROADWAY'\n",
    "all_data.loc[all_data['LIGHT_CONDITIONS'].isin(['Dark - Roadway Not Lighted', 'DARK - ROADWAY NOT LIGHTED\\r', \n",
    "                                               'DARK-RAODWAY NOT LIGHTED', 'DARK-ROADWAY NOT LIGHTEDDARK - ROADWAY NOT LIGHTED\\r',\n",
    "                                               'DARK-ROADWAY NOT LIGHTED', 'DARK ROADWAY NOT LIGHTED']), \n",
    "            'LIGHT_CONDITIONS'] = 'DARK - ROADWAY NOT LIGHTED'\n",
    "all_data.loc[all_data['LIGHT_CONDITIONS'].isin(['DARK - UNKNOWN LIGHTING', 'DARK UNKNOWN LIGHTING', \n",
    "                                               'DARK - UNKNOWN LIGHTING\\r', 'Dark - Unknown Lighting']), \n",
    "            'LIGHT_CONDITIONS'] = 'DARK-UNKNOWN LIGHTING'\n",
    "all_data.loc[all_data['LIGHT_CONDITIONS'].isin(['Dusk']), 'LIGHT_CONDITIONS'] = 'DUSK'\n",
    "all_data.loc[all_data['LIGHT_CONDITIONS'].isin(['Dawn']), 'LIGHT_CONDITIONS'] = 'DAWN'\n",
    "all_data.loc[all_data['LIGHT_CONDITIONS'].isin(['Unknown']), 'LIGHT_CONDITIONS'] = 'UNKNOWN'\n",
    "all_data.loc[all_data['LIGHT_CONDITIONS'].isin(['OTHER*', 'Other', 'OTHER*\\r']), 'LIGHT_CONDITIONS'] = 'OTHER'\n",
    "\n",
    "all_data.LIGHT_CONDITIONS.value_counts()"
   ]
  },
  {
   "cell_type": "code",
   "execution_count": 12,
   "metadata": {},
   "outputs": [
    {
     "data": {
      "text/plain": [
       "CLEAR                                 31066\n",
       "Clear                                  6375\n",
       "CLOUDY                                 6122\n",
       "RAIN                                   4484\n",
       "Cloudy                                 1364\n",
       "Rain                                   1291\n",
       "SNOW                                    484\n",
       "Snow                                    197\n",
       "SLEET,HAIL,FREEZING RAIN/DRIZZLE        187\n",
       "SLEET, HAIL, FREEZING RAIN/DRIZZLE      160\n",
       "                                      ...  \n",
       "CLEAR\\nCLEAR\\nCLEAR\\nCLEAR                1\n",
       "CEAR                                      1\n",
       "OTHER*\\r                                  1\n",
       "SLEET. HAIL. FREEZING RAIN/DRIZZLE        1\n",
       "FOG, SMOG, SMOKE\\r\\n\\r                    1\n",
       "RAIN/ SNOW                                1\n",
       "RAIN\\r                                    1\n",
       "CLOUDLY / CLEAR                           1\n",
       "-                                         1\n",
       "RAIN/CLOUDY\\nRAIN/CLOUDY                  1\n",
       "Name: WEATHER, Length: 34, dtype: int64"
      ]
     },
     "execution_count": 12,
     "metadata": {},
     "output_type": "execute_result"
    }
   ],
   "source": [
    "all_data.WEATHER.value_counts()"
   ]
  },
  {
   "cell_type": "code",
   "execution_count": 13,
   "metadata": {},
   "outputs": [
    {
     "data": {
      "text/plain": [
       "CLEAR                               37443\n",
       "CLOUDY                               7486\n",
       "RAIN                                 5776\n",
       "SNOW                                  683\n",
       "SLEET,HAIL,FREEZING RAIN/DRIZZLE      403\n",
       "FOG, SMOG, SMOKE                      117\n",
       "OTHER                                  51\n",
       "BLOWING SAND, DIRT, SNOW                6\n",
       "RAIN / CLOUDY                           6\n",
       "SEVERE CROSSWINDS                       3\n",
       "RAIN/ SNOW                              1\n",
       "CLOUDLY / CLEAR                         1\n",
       "RAIN/ SEVERE CROSSWINDS                 1\n",
       "UNKNOWN                                 1\n",
       "Name: WEATHER, dtype: int64"
      ]
     },
     "execution_count": 13,
     "metadata": {},
     "output_type": "execute_result"
    }
   ],
   "source": [
    "all_data.loc[all_data['WEATHER'].isin(['Clear', 'CEAR', 'CLEAR\\nCLEAR\\nCLEAR\\nCLEAR']), 'WEATHER'] = 'CLEAR'\n",
    "all_data.loc[all_data['WEATHER'].isin(['Cloudy']), 'WEATHER'] = 'CLOUDY'\n",
    "all_data.loc[all_data['WEATHER'].isin(['Rain', 'RAIN\\r']), 'WEATHER'] = 'RAIN'\n",
    "all_data.loc[all_data['WEATHER'].isin(['Snow', 'SNOW\\r']), 'WEATHER'] = 'SNOW'\n",
    "all_data.loc[all_data['WEATHER'].isin(['SLEET, HAIL, FREEZING RAIN/DRIZZLE',\n",
    "                                      'SLEET. HAIL. FREEZING RAIN/DRIZZLE',\n",
    "                                      'Sleet, Hail, Freezing Rain/Drizzle']), 'WEATHER'] = 'SLEET,HAIL,FREEZING RAIN/DRIZZLE'\n",
    "all_data.loc[all_data['WEATHER'].isin(['FOG,SMOG,SMOKE', 'Fog, Smog, Smoke'\n",
    "                                       , 'FOG, SMOG, SMOKE\\r\\n\\r']), 'WEATHER'] = 'FOG, SMOG, SMOKE'\n",
    "all_data.loc[all_data['WEATHER'].isin(['BLOWING SAND,DIRT,SNOW', 'Blowing Sand, Dirt, Snow']), 'WEATHER'] = 'BLOWING SAND, DIRT, SNOW'\n",
    "all_data.loc[all_data['WEATHER'].isin(['OTHER*\\r', 'Other', 'OTHER*']), 'WEATHER'] = 'OTHER'\n",
    "all_data.loc[all_data['WEATHER'].isin(['CLOUDY / RAIN', 'RAIN/CLOUDY\\nRAIN/CLOUDY']), 'WEATHER'] = 'RAIN / CLOUDY'\n",
    "all_data.loc[all_data['WEATHER'].isin(['-']), 'WEATHER'] = 'UNKNOWN'\n",
    "all_data.WEATHER.value_counts()"
   ]
  },
  {
   "cell_type": "code",
   "execution_count": 14,
   "metadata": {},
   "outputs": [
    {
     "data": {
      "text/plain": [
       "NO CONTROL PRESENT                       26098\n",
       "STOP AND GO SIGNAL                       10645\n",
       "No Control Present                        5225\n",
       "STOP SIGN                                 3760\n",
       "Stop And Go Signal                        2936\n",
       "Stop Sign                                 1005\n",
       "---                                        553\n",
       "FLASHING STOP AND GO SIGNAL                514\n",
       "YIELD SIGN                                 467\n",
       "Flashing Stop And Go Signal                146\n",
       "                                         ...  \n",
       "NO CONTROL PRSSENT                           1\n",
       "NO CONTROL PRESEMT                           1\n",
       "NO COLTROL PRESENT                           1\n",
       "NO CNTROL PRESENT                            1\n",
       "NO CONTRL PRESENT                            1\n",
       "FLASHING SIGNAL WITHOUT STOP SIGN\\r          1\n",
       "DOUBLE YELLOW LINE, NO PASSING ZONE\\r        1\n",
       "NO CONROL PRESENT                            1\n",
       "--                                           1\n",
       "NO OCNTROL PRESENT                           1\n",
       "Name: TRAFFIC_CONTROL, Length: 47, dtype: int64"
      ]
     },
     "execution_count": 14,
     "metadata": {},
     "output_type": "execute_result"
    }
   ],
   "source": [
    "all_data.TRAFFIC_CONTROL.value_counts()"
   ]
  },
  {
   "cell_type": "code",
   "execution_count": 15,
   "metadata": {},
   "outputs": [
    {
     "data": {
      "text/plain": [
       "NO CONTROL PRESENT                     31339\n",
       "STOP AND GO SIGNAL                     13583\n",
       "STOP SIGN                               4765\n",
       "FLASHING STOP AND GO SIGNAL              660\n",
       "YIELD SIGN                               594\n",
       "UNKNOWN                                  554\n",
       "OTHER                                    111\n",
       "DOUBLE YELLOW LINE, NO PASSING ZONE       99\n",
       "WARNING SIGN                              85\n",
       "FLASHING SIGNAL WITH STOP SIGN            54\n",
       "HUMAN CONTROL                             39\n",
       "RR GATE AND FLASHER                       34\n",
       "FLASHING SIGNAL WITHOUT STOP SIGN         25\n",
       "SCHOOL ZONE SIGNS                          7\n",
       "RR FLASHER                                 7\n",
       "RR CROSSBUCKS ONLY                         3\n",
       "Name: TRAFFIC_CONTROL, dtype: int64"
      ]
     },
     "execution_count": 15,
     "metadata": {},
     "output_type": "execute_result"
    }
   ],
   "source": [
    "all_data.loc[all_data['TRAFFIC_CONTROL'].isin(['Stop Sign']), 'TRAFFIC_CONTROL'] = 'STOP SIGN'\n",
    "all_data.loc[all_data['TRAFFIC_CONTROL'].isin(['No Control Present', 'NO CNTROL PRESENT', 'NO OCNTROL PRESENT',\n",
    "                                               'NO CONROL PRESENT', 'NO CONTRL PRESENT', 'CONTROL NOT PRESENT',\n",
    "                                              'NO CONTROL PRESEMT', 'NO COLTROL PRESENT', 'NO CONTROL PRSENT',\n",
    "                                              'NO CONTROL PRSSENT', 'NO CONTOL PRESENT', 'NONE']), \n",
    "             'TRAFFIC_CONTROL'] = 'NO CONTROL PRESENT'\n",
    "all_data.loc[all_data['TRAFFIC_CONTROL'].isin(['Stop And Go Signal', 'STOP AND GO SGNAL',\n",
    "                                              'STOP AND GO  SIGNAL']), 'TRAFFIC_CONTROL'] = 'STOP AND GO SIGNAL'\n",
    "all_data.loc[all_data['TRAFFIC_CONTROL'].isin(['Yield Sign']), 'TRAFFIC_CONTROL'] = 'YIELD SIGN'\n",
    "all_data.loc[all_data['TRAFFIC_CONTROL'].isin(['Flashing Stop And Go Signal']), \n",
    "             'TRAFFIC_CONTROL'] = 'FLASHING STOP AND GO SIGNAL'\n",
    "all_data.loc[all_data['TRAFFIC_CONTROL'].isin(['Flashing Signal With Stop Sign']), \n",
    "             'TRAFFIC_CONTROL'] = 'FLASHING SIGNAL WITH STOP SIGN'\n",
    "all_data.loc[all_data['TRAFFIC_CONTROL'].isin(['Rr Flasher']), 'TRAFFIC_CONTROL'] = 'RR FLASHER'\n",
    "all_data.loc[all_data['TRAFFIC_CONTROL'].isin(['OTHER*', 'Other']), 'TRAFFIC_CONTROL'] = 'OTHER'\n",
    "all_data.loc[all_data['TRAFFIC_CONTROL'].isin(['School Zone Signs']), 'TRAFFIC_CONTROL'] = 'SCHOOL ZONE SIGNS'\n",
    "all_data.loc[all_data['TRAFFIC_CONTROL'].isin(['Flashing Signal Without Stop Sign', 'FLASHING SIGNAL WITHOUT STOP SIGN\\r']), \n",
    "             'TRAFFIC_CONTROL'] = 'FLASHING SIGNAL WITHOUT STOP SIGN'\n",
    "all_data.loc[all_data['TRAFFIC_CONTROL'].isin(['Warning Sign']), 'TRAFFIC_CONTROL'] = 'WARNING SIGN'\n",
    "all_data.loc[all_data['TRAFFIC_CONTROL'].isin(['Human Control']), 'TRAFFIC_CONTROL'] = 'HUMAN CONTROL'\n",
    "all_data.loc[all_data['TRAFFIC_CONTROL'].isin(['---', '--']), 'TRAFFIC_CONTROL'] = 'UNKNOWN'\n",
    "all_data.loc[all_data['TRAFFIC_CONTROL'].isin(['Rr Gate And Flasher']), 'TRAFFIC_CONTROL'] = 'RR GATE AND FLASHER'\n",
    "all_data.loc[all_data['TRAFFIC_CONTROL'].isin(['Double Yellow Line, No Passing Zone', \n",
    "                                               'DOUBLE YELLOW LINE, NO PASSING ZONE\\r']),\n",
    "             'TRAFFIC_CONTROL'] = 'DOUBLE YELLOW LINE, NO PASSING ZONE'\n",
    "#all_data.loc[all_data['TRAFFIC_CONTROL'].isin(['STOP AND GO SIGNAL']), 'TRAFFIC_CONTROL'] = 'STOP SIGN'\n",
    "#all_data.loc[all_data['TRAFFIC_CONTROL'].isin(['FLASHING STOP AND GO SIGNAL']), \n",
    "#             'TRAFFIC_CONTROL'] = 'FLASHING SIGNAL WITH STOP SIGN'\n",
    "all_data.TRAFFIC_CONTROL.value_counts()"
   ]
  },
  {
   "cell_type": "code",
   "execution_count": 16,
   "metadata": {},
   "outputs": [
    {
     "data": {
      "text/plain": [
       "NO     23087\n",
       "N      13972\n",
       "No      4621\n",
       "Y       2221\n",
       "YES     2150\n",
       "Yes     1092\n",
       "Name: HIT_RUN, dtype: int64"
      ]
     },
     "execution_count": 16,
     "metadata": {},
     "output_type": "execute_result"
    }
   ],
   "source": [
    "all_data.HIT_RUN.value_counts()"
   ]
  },
  {
   "cell_type": "code",
   "execution_count": 17,
   "metadata": {},
   "outputs": [
    {
     "data": {
      "text/plain": [
       "NO     44993\n",
       "YES     2150\n",
       "Name: HIT_RUN, dtype: int64"
      ]
     },
     "execution_count": 17,
     "metadata": {},
     "output_type": "execute_result"
    }
   ],
   "source": [
    "all_data.loc[all_data['HIT_RUN'].isin(['N', 'No']), 'HIT_RUN'] = 'NO'\n",
    "all_data.loc[all_data['HIT_RUN'].isin(['Y', 'Yes']), 'HIT_RUN'] = 'NO'\n",
    "all_data.HIT_RUN.value_counts()"
   ]
  },
  {
   "cell_type": "code",
   "execution_count": 18,
   "metadata": {},
   "outputs": [
    {
     "data": {
      "text/plain": [
       "O No Injury                          31884\n",
       "C Type Injury (Possible)             16286\n",
       "B Type Injury (Evident)               2052\n",
       "Unknown                                800\n",
       "B Type Injury (Suspected Minor)        671\n",
       "A Type Injury (Disabling)              128\n",
       "A Type Injury (Suspected Serious)       49\n",
       "C Type Injury (Possible)\\r               1\n",
       "UNKNOWN                                  1\n",
       "Name: SEVERITY, dtype: int64"
      ]
     },
     "execution_count": 18,
     "metadata": {},
     "output_type": "execute_result"
    }
   ],
   "source": [
    "all_data.SEVERITY.value_counts()"
   ]
  },
  {
   "cell_type": "code",
   "execution_count": 19,
   "metadata": {},
   "outputs": [
    {
     "data": {
      "text/plain": [
       "O No Injury                          31884\n",
       "C Type Injury (Possible)             16287\n",
       "B Type Injury (Evident)               2052\n",
       "UNKNOWN                                801\n",
       "B Type Injury (Suspected Minor)        671\n",
       "A Type Injury (Disabling)              128\n",
       "A Type Injury (Suspected Serious)       49\n",
       "Name: SEVERITY, dtype: int64"
      ]
     },
     "execution_count": 19,
     "metadata": {},
     "output_type": "execute_result"
    }
   ],
   "source": [
    "all_data.loc[all_data['SEVERITY'].isin(['C Type Injury (Possible)\\r']), 'SEVERITY'] = 'C Type Injury (Possible)'\n",
    "all_data.loc[all_data['SEVERITY'].isin(['Unknown']), 'SEVERITY'] = 'UNKNOWN'\n",
    "all_data.SEVERITY.value_counts()"
   ]
  },
  {
   "cell_type": "code",
   "execution_count": 20,
   "metadata": {},
   "outputs": [
    {
     "data": {
      "text/plain": [
       "Friday       8958\n",
       "Wednesday    7868\n",
       "Thursday     7821\n",
       "Tuesday      7703\n",
       "Monday       7607\n",
       "Saturday     6758\n",
       "Sunday       5289\n",
       "Name: DAY, dtype: int64"
      ]
     },
     "execution_count": 20,
     "metadata": {},
     "output_type": "execute_result"
    }
   ],
   "source": [
    "all_data.ACCIDENT_DATE.value_counts()\n",
    "#all_data['TIME'] = all_data.ACCIDENT_DATE.dt.time\n",
    "#time is not available in this location for fatalities data\n",
    "all_data['CASE_NUM'] = all_data.CASE_NUM.astype(str)\n",
    "all_data['DATE'] = pd.to_datetime(all_data.CASE_NUM.str[:8])\n",
    "all_data['YEAR'] = all_data.DATE.dt.year\n",
    "all_data['MONTH'] = all_data.DATE.dt.month\n",
    "all_data['DAY'] = all_data.DATE.dt.day_name()\n",
    "\n",
    "all_data.DAY.value_counts()"
   ]
  },
  {
   "cell_type": "code",
   "execution_count": null,
   "metadata": {},
   "outputs": [],
   "source": []
  },
  {
   "cell_type": "code",
   "execution_count": null,
   "metadata": {},
   "outputs": [],
   "source": []
  },
  {
   "cell_type": "code",
   "execution_count": null,
   "metadata": {},
   "outputs": [],
   "source": []
  },
  {
   "cell_type": "code",
   "execution_count": null,
   "metadata": {},
   "outputs": [],
   "source": []
  },
  {
   "cell_type": "code",
   "execution_count": 21,
   "metadata": {},
   "outputs": [],
   "source": [
    "ped_data = all_data[all_data.PEDESTRIAN_REL == 'YES']\n",
    "noped_data = all_data[all_data.PEDESTRIAN_REL == 'NO']"
   ]
  },
  {
   "cell_type": "code",
   "execution_count": null,
   "metadata": {},
   "outputs": [],
   "source": []
  },
  {
   "cell_type": "code",
   "execution_count": 22,
   "metadata": {},
   "outputs": [
    {
     "data": {
      "text/plain": [
       "2015    171\n",
       "2014    163\n",
       "2018    155\n",
       "2017    145\n",
       "2016    140\n",
       "Name: ACCIDENT_YEAR, dtype: int64"
      ]
     },
     "execution_count": 22,
     "metadata": {},
     "output_type": "execute_result"
    }
   ],
   "source": [
    "ped_data.ACCIDENT_YEAR.value_counts()"
   ]
  },
  {
   "cell_type": "code",
   "execution_count": 23,
   "metadata": {},
   "outputs": [
    {
     "data": {
      "text/plain": [
       "2018    11102\n",
       "2017    10899\n",
       "2016    10718\n",
       "2015     9778\n",
       "2014     8733\n",
       "Name: ACCIDENT_YEAR, dtype: int64"
      ]
     },
     "execution_count": 23,
     "metadata": {},
     "output_type": "execute_result"
    }
   ],
   "source": [
    "noped_data.ACCIDENT_YEAR.value_counts()"
   ]
  },
  {
   "cell_type": "code",
   "execution_count": 24,
   "metadata": {},
   "outputs": [
    {
     "data": {
      "text/plain": [
       "C Type Injury (Possible)             435\n",
       "B Type Injury (Evident)              173\n",
       "B Type Injury (Suspected Minor)       55\n",
       "A Type Injury (Disabling)             42\n",
       "O No Injury                           18\n",
       "A Type Injury (Suspected Serious)     16\n",
       "Name: SEVERITY, dtype: int64"
      ]
     },
     "execution_count": 24,
     "metadata": {},
     "output_type": "execute_result"
    }
   ],
   "source": [
    "ped_data.SEVERITY.value_counts()"
   ]
  },
  {
   "cell_type": "code",
   "execution_count": 25,
   "metadata": {},
   "outputs": [
    {
     "data": {
      "text/plain": [
       "O No Injury                          31866\n",
       "C Type Injury (Possible)             15852\n",
       "B Type Injury (Evident)               1879\n",
       "UNKNOWN                                801\n",
       "B Type Injury (Suspected Minor)        616\n",
       "A Type Injury (Disabling)               86\n",
       "A Type Injury (Suspected Serious)       33\n",
       "Name: SEVERITY, dtype: int64"
      ]
     },
     "execution_count": 25,
     "metadata": {},
     "output_type": "execute_result"
    }
   ],
   "source": [
    "noped_data.SEVERITY.value_counts()"
   ]
  },
  {
   "cell_type": "code",
   "execution_count": null,
   "metadata": {},
   "outputs": [],
   "source": []
  },
  {
   "cell_type": "code",
   "execution_count": null,
   "metadata": {},
   "outputs": [],
   "source": []
  },
  {
   "cell_type": "code",
   "execution_count": 26,
   "metadata": {},
   "outputs": [
    {
     "data": {
      "image/png": "[encoded data removed]",
      "text/plain": [
       "<Figure size 432x288 with 1 Axes>"
      ]
     },
     "metadata": {
      "needs_background": "light"
     },
     "output_type": "display_data"
    }
   ],
   "source": [
    "ped_data['SEVERITY'].value_counts().plot(kind='barh')\n",
    "plt.title('Pedestrian Injury Severity')\n",
    "plt.ylabel('Severity')\n",
    "plt.xlabel('Count')\n",
    "plt.show()"
   ]
  },
  {
   "cell_type": "code",
   "execution_count": 27,
   "metadata": {},
   "outputs": [
    {
     "data": {
      "image/png": "[encoded data removed]",
      "text/plain": [
       "<Figure size 432x288 with 1 Axes>"
      ]
     },
     "metadata": {
      "needs_background": "light"
     },
     "output_type": "display_data"
    }
   ],
   "source": [
    "ped_data['LIGHT_CONDITIONS'].value_counts().plot(kind='barh')\n",
    "plt.show()"
   ]
  },
  {
   "cell_type": "code",
   "execution_count": 28,
   "metadata": {},
   "outputs": [
    {
     "data": {
      "image/png": "[encoded data removed]",
      "text/plain": [
       "<Figure size 432x288 with 1 Axes>"
      ]
     },
     "metadata": {
      "needs_background": "light"
     },
     "output_type": "display_data"
    }
   ],
   "source": [
    "noped_data['LIGHT_CONDITIONS'].value_counts().plot(kind='barh')\n",
    "plt.show()"
   ]
  },
  {
   "cell_type": "code",
   "execution_count": 29,
   "metadata": {},
   "outputs": [
    {
     "data": {
      "image/png": "[encoded data removed]",
      "text/plain": [
       "<Figure size 432x288 with 1 Axes>"
      ]
     },
     "metadata": {
      "needs_background": "light"
     },
     "output_type": "display_data"
    }
   ],
   "source": [
    "ped_data['TRAFFIC_CONTROL'].value_counts().plot(kind='barh')\n",
    "plt.title('Traffic Control at Pedestrian Collision')\n",
    "plt.ylabel('Traffic Control')\n",
    "plt.xlabel('Count')\n",
    "plt.show()"
   ]
  },
  {
   "cell_type": "code",
   "execution_count": 30,
   "metadata": {},
   "outputs": [
    {
     "data": {
      "image/png": "[encoded data removed]",
      "text/plain": [
       "<Figure size 432x288 with 1 Axes>"
      ]
     },
     "metadata": {
      "needs_background": "light"
     },
     "output_type": "display_data"
    }
   ],
   "source": [
    "noped_data['TRAFFIC_CONTROL'].value_counts().plot(kind='barh')\n",
    "plt.show()"
   ]
  },
  {
   "cell_type": "code",
   "execution_count": 31,
   "metadata": {},
   "outputs": [
    {
     "data": {
      "image/png": "[encoded data removed]",
      "text/plain": [
       "<Figure size 432x288 with 1 Axes>"
      ]
     },
     "metadata": {
      "needs_background": "light"
     },
     "output_type": "display_data"
    }
   ],
   "source": [
    "ped_data['WEATHER'].value_counts().plot(kind='barh')\n",
    "plt.show()"
   ]
  },
  {
   "cell_type": "code",
   "execution_count": 32,
   "metadata": {},
   "outputs": [
    {
     "data": {
      "image/png": "[encoded data removed]",
      "text/plain": [
       "<Figure size 432x288 with 1 Axes>"
      ]
     },
     "metadata": {
      "needs_background": "light"
     },
     "output_type": "display_data"
    }
   ],
   "source": [
    "noped_data['WEATHER'].value_counts().plot(kind='barh')\n",
    "plt.show()"
   ]
  },
  {
   "cell_type": "code",
   "execution_count": null,
   "metadata": {},
   "outputs": [],
   "source": []
  },
  {
   "cell_type": "code",
   "execution_count": null,
   "metadata": {},
   "outputs": [],
   "source": []
  },
  {
   "cell_type": "code",
   "execution_count": 33,
   "metadata": {},
   "outputs": [
    {
     "data": {
      "image/png": "[encoded data removed]",
      "text/plain": [
       "<Figure size 432x288 with 1 Axes>"
      ]
     },
     "metadata": {
      "needs_background": "light"
     },
     "output_type": "display_data"
    }
   ],
   "source": [
    "#sns.scatterplot(x=\"X\", y=\"Y\", hue=\"TRAFFIC_CONTROL\", data=ped_data)\n",
    "sns.scatterplot(x=\"X\", y=\"Y\", hue=\"WEATHER\", data=ped_data)\n",
    "plt.show()"
   ]
  },
  {
   "cell_type": "code",
   "execution_count": null,
   "metadata": {},
   "outputs": [],
   "source": []
  }
 ],
 "metadata": {
  "kernelspec": {
   "display_name": "Python 3",
   "language": "python",
   "name": "python3"
  },
  "language_info": {
   "codemirror_mode": {
    "name": "ipython",
    "version": 3
   },
   "file_extension": ".py",
   "mimetype": "text/x-python",
   "name": "python",
   "nbconvert_exporter": "python",
   "pygments_lexer": "ipython3",
   "version": "3.7.1"
  }
 },
 "nbformat": 4,
 "nbformat_minor": 2
}
