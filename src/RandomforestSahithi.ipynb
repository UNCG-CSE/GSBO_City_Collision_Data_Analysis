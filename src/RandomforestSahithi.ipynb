{
 "cells": [
  {
   "cell_type": "code",
   "execution_count": 1,
   "metadata": {},
   "outputs": [],
   "source": [
    "import pandas as pd\n",
    "import numpy as np\n",
    "from sklearn.model_selection import train_test_split\n",
    "from sklearn.preprocessing import StandardScaler\n",
    "from sklearn.ensemble import RandomForestClassifier\n",
    "from sklearn.metrics import confusion_matrix\n",
    "from sklearn.externals import joblib"
   ]
  },
  {
   "cell_type": "code",
   "execution_count": 2,
   "metadata": {},
   "outputs": [],
   "source": [
    "df =pd.read_excel(r\"C:\\Users\\sahit\\OneDrive\\Documents\\New folder\\DS\\DSproject\\All_Collisions.xlsx\")"
   ]
  },
  {
   "cell_type": "code",
   "execution_count": 3,
   "metadata": {},
   "outputs": [
    {
     "data": {
      "text/html": [
       "<div>\n",
       "<style scoped>\n",
       "    .dataframe tbody tr th:only-of-type {\n",
       "        vertical-align: middle;\n",
       "    }\n",
       "\n",
       "    .dataframe tbody tr th {\n",
       "        vertical-align: top;\n",
       "    }\n",
       "\n",
       "    .dataframe thead th {\n",
       "        text-align: right;\n",
       "    }\n",
       "</style>\n",
       "<table border=\"1\" class=\"dataframe\">\n",
       "  <thead>\n",
       "    <tr style=\"text-align: right;\">\n",
       "      <th></th>\n",
       "      <th>OBJECTID</th>\n",
       "      <th>Shape</th>\n",
       "      <th>ADDRESS</th>\n",
       "      <th>ACCIDENT_CAUSE</th>\n",
       "      <th>COLLISION_DESC</th>\n",
       "      <th>WEATHER</th>\n",
       "      <th>LIGHT_CONDITIONS</th>\n",
       "      <th>ROAD_CLASS</th>\n",
       "      <th>TRAFFIC_CONTROL</th>\n",
       "      <th>PEDESTRIAN_REL</th>\n",
       "      <th>...</th>\n",
       "      <th>Y</th>\n",
       "      <th>BIPED</th>\n",
       "      <th>SEVERITY</th>\n",
       "      <th>SEVERITY_CD</th>\n",
       "      <th>KILLED</th>\n",
       "      <th>A_INJURIES</th>\n",
       "      <th>B_INJURIES</th>\n",
       "      <th>C_INJURIES</th>\n",
       "      <th>CASE_NUM</th>\n",
       "      <th>DEPARTMENT</th>\n",
       "    </tr>\n",
       "  </thead>\n",
       "  <tbody>\n",
       "    <tr>\n",
       "      <th>0</th>\n",
       "      <td>1</td>\n",
       "      <td>NaN</td>\n",
       "      <td>599 E MARKET ST/N MURROW BLVD</td>\n",
       "      <td>IMPROPER BACKING / NO CONTRIBUTING CIRCUMSTANC...</td>\n",
       "      <td>BACKING UP</td>\n",
       "      <td>CLEAR</td>\n",
       "      <td>DARK-LIGHTED ROADWAY</td>\n",
       "      <td>LOCAL</td>\n",
       "      <td>STOP AND GO SIGNAL</td>\n",
       "      <td>NO</td>\n",
       "      <td>...</td>\n",
       "      <td>36.072048</td>\n",
       "      <td>NaN</td>\n",
       "      <td>C Type Injury (Possible)</td>\n",
       "      <td>4</td>\n",
       "      <td>0.0</td>\n",
       "      <td>0</td>\n",
       "      <td>0.0</td>\n",
       "      <td>2.0</td>\n",
       "      <td>20160101002</td>\n",
       "      <td>NaN</td>\n",
       "    </tr>\n",
       "    <tr>\n",
       "      <th>1</th>\n",
       "      <td>2</td>\n",
       "      <td>NaN</td>\n",
       "      <td>3999 OVERLAND HTS</td>\n",
       "      <td>IMPROPER BACKING / NO CONTRIBUTING CIRCUMSTANC...</td>\n",
       "      <td>PARKED MOTOR VEHICLE</td>\n",
       "      <td>CLEAR</td>\n",
       "      <td>DARK-LIGHTED ROADWAY</td>\n",
       "      <td>PUBLIC VEHICULAR AREA</td>\n",
       "      <td>NO CONTROL PRESENT</td>\n",
       "      <td>NO</td>\n",
       "      <td>...</td>\n",
       "      <td>36.043997</td>\n",
       "      <td>NaN</td>\n",
       "      <td>O No Injury</td>\n",
       "      <td>5</td>\n",
       "      <td>0.0</td>\n",
       "      <td>0</td>\n",
       "      <td>0.0</td>\n",
       "      <td>0.0</td>\n",
       "      <td>20160101005</td>\n",
       "      <td>NaN</td>\n",
       "    </tr>\n",
       "  </tbody>\n",
       "</table>\n",
       "<p>2 rows × 28 columns</p>\n",
       "</div>"
      ],
      "text/plain": [
       "   OBJECTID  Shape                        ADDRESS  \\\n",
       "0         1    NaN  599 E MARKET ST/N MURROW BLVD   \n",
       "1         2    NaN              3999 OVERLAND HTS   \n",
       "\n",
       "                                      ACCIDENT_CAUSE        COLLISION_DESC  \\\n",
       "0  IMPROPER BACKING / NO CONTRIBUTING CIRCUMSTANC...            BACKING UP   \n",
       "1  IMPROPER BACKING / NO CONTRIBUTING CIRCUMSTANC...  PARKED MOTOR VEHICLE   \n",
       "\n",
       "  WEATHER      LIGHT_CONDITIONS             ROAD_CLASS     TRAFFIC_CONTROL  \\\n",
       "0   CLEAR  DARK-LIGHTED ROADWAY                  LOCAL  STOP AND GO SIGNAL   \n",
       "1   CLEAR  DARK-LIGHTED ROADWAY  PUBLIC VEHICULAR AREA  NO CONTROL PRESENT   \n",
       "\n",
       "  PEDESTRIAN_REL    ...              Y  BIPED                  SEVERITY  \\\n",
       "0             NO    ...      36.072048    NaN  C Type Injury (Possible)   \n",
       "1             NO    ...      36.043997    NaN               O No Injury   \n",
       "\n",
       "   SEVERITY_CD KILLED  A_INJURIES  B_INJURIES  C_INJURIES     CASE_NUM  \\\n",
       "0            4    0.0           0         0.0         2.0  20160101002   \n",
       "1            5    0.0           0         0.0         0.0  20160101005   \n",
       "\n",
       "  DEPARTMENT  \n",
       "0        NaN  \n",
       "1        NaN  \n",
       "\n",
       "[2 rows x 28 columns]"
      ]
     },
     "execution_count": 3,
     "metadata": {},
     "output_type": "execute_result"
    }
   ],
   "source": [
    "df.head(2)"
   ]
  },
  {
   "cell_type": "code",
   "execution_count": 4,
   "metadata": {},
   "outputs": [
    {
     "data": {
      "text/plain": [
       "(52055, 28)"
      ]
     },
     "execution_count": 4,
     "metadata": {},
     "output_type": "execute_result"
    }
   ],
   "source": [
    "df.shape"
   ]
  },
  {
   "cell_type": "code",
   "execution_count": 5,
   "metadata": {},
   "outputs": [
    {
     "data": {
      "text/plain": [
       "OBJECTID                0\n",
       "Shape               52055\n",
       "ADDRESS               176\n",
       "ACCIDENT_CAUSE        241\n",
       "COLLISION_DESC          3\n",
       "WEATHER                25\n",
       "LIGHT_CONDITIONS       25\n",
       "ROAD_CLASS             24\n",
       "TRAFFIC_CONTROL        44\n",
       "PEDESTRIAN_REL        911\n",
       "HIT_RUN              4871\n",
       "INJURED                 1\n",
       "FATALITY                1\n",
       "TOTAL_DAMAGE            9\n",
       "ACCIDENT_DATE         899\n",
       "ACCIDENT_YEAR           0\n",
       "UNIQUE_RECORD_ID    32693\n",
       "X                       0\n",
       "Y                       0\n",
       "BIPED               50937\n",
       "SEVERITY                0\n",
       "SEVERITY_CD             0\n",
       "KILLED                  1\n",
       "A_INJURIES              0\n",
       "B_INJURIES              3\n",
       "C_INJURIES              2\n",
       "CASE_NUM                0\n",
       "DEPARTMENT          40684\n",
       "dtype: int64"
      ]
     },
     "execution_count": 5,
     "metadata": {},
     "output_type": "execute_result"
    }
   ],
   "source": [
    "df.isna().sum()"
   ]
  },
  {
   "cell_type": "code",
   "execution_count": 6,
   "metadata": {},
   "outputs": [],
   "source": [
    "df = df.drop(['BIPED','Shape','DEPARTMENT', 'UNIQUE_RECORD_ID'], axis = 1)"
   ]
  },
  {
   "cell_type": "code",
   "execution_count": 7,
   "metadata": {},
   "outputs": [
    {
     "data": {
      "text/plain": [
       "OBJECTID               0\n",
       "ADDRESS              176\n",
       "ACCIDENT_CAUSE       241\n",
       "COLLISION_DESC         3\n",
       "WEATHER               25\n",
       "LIGHT_CONDITIONS      25\n",
       "ROAD_CLASS            24\n",
       "TRAFFIC_CONTROL       44\n",
       "PEDESTRIAN_REL       911\n",
       "HIT_RUN             4871\n",
       "INJURED                1\n",
       "FATALITY               1\n",
       "TOTAL_DAMAGE           9\n",
       "ACCIDENT_DATE        899\n",
       "ACCIDENT_YEAR          0\n",
       "X                      0\n",
       "Y                      0\n",
       "SEVERITY               0\n",
       "SEVERITY_CD            0\n",
       "KILLED                 1\n",
       "A_INJURIES             0\n",
       "B_INJURIES             3\n",
       "C_INJURIES             2\n",
       "CASE_NUM               0\n",
       "dtype: int64"
      ]
     },
     "execution_count": 7,
     "metadata": {},
     "output_type": "execute_result"
    }
   ],
   "source": [
    "df.isna().sum()"
   ]
  },
  {
   "cell_type": "code",
   "execution_count": 8,
   "metadata": {},
   "outputs": [],
   "source": [
    "df = df.dropna()"
   ]
  },
  {
   "cell_type": "code",
   "execution_count": null,
   "metadata": {},
   "outputs": [],
   "source": []
  },
  {
   "cell_type": "code",
   "execution_count": 9,
   "metadata": {},
   "outputs": [
    {
     "data": {
      "text/plain": [
       "0"
      ]
     },
     "execution_count": 9,
     "metadata": {},
     "output_type": "execute_result"
    }
   ],
   "source": [
    "df.isna().sum().sum()"
   ]
  },
  {
   "cell_type": "code",
   "execution_count": 10,
   "metadata": {},
   "outputs": [
    {
     "name": "stdout",
     "output_type": "stream",
     "text": [
      "(45443, 24)\n",
      "Index(['OBJECTID', 'ADDRESS', 'ACCIDENT_CAUSE', 'COLLISION_DESC', 'WEATHER',\n",
      "       'LIGHT_CONDITIONS', 'ROAD_CLASS', 'TRAFFIC_CONTROL', 'PEDESTRIAN_REL',\n",
      "       'HIT_RUN', 'INJURED', 'FATALITY', 'TOTAL_DAMAGE', 'ACCIDENT_DATE',\n",
      "       'ACCIDENT_YEAR', 'X', 'Y', 'SEVERITY', 'SEVERITY_CD', 'KILLED',\n",
      "       'A_INJURIES', 'B_INJURIES', 'C_INJURIES', 'CASE_NUM'],\n",
      "      dtype='object')\n"
     ]
    }
   ],
   "source": [
    "print(df.shape)\n",
    "print(df.columns)"
   ]
  },
  {
   "cell_type": "code",
   "execution_count": 11,
   "metadata": {},
   "outputs": [
    {
     "name": "stdout",
     "output_type": "stream",
     "text": [
      "<class 'pandas.core.frame.DataFrame'>\n",
      "Int64Index: 45443 entries, 0 to 52044\n",
      "Data columns (total 24 columns):\n",
      "OBJECTID            45443 non-null int64\n",
      "ADDRESS             45443 non-null object\n",
      "ACCIDENT_CAUSE      45443 non-null object\n",
      "COLLISION_DESC      45443 non-null object\n",
      "WEATHER             45443 non-null object\n",
      "LIGHT_CONDITIONS    45443 non-null object\n",
      "ROAD_CLASS          45443 non-null object\n",
      "TRAFFIC_CONTROL     45443 non-null object\n",
      "PEDESTRIAN_REL      45443 non-null object\n",
      "HIT_RUN             45443 non-null object\n",
      "INJURED             45443 non-null float64\n",
      "FATALITY            45443 non-null float64\n",
      "TOTAL_DAMAGE        45443 non-null float64\n",
      "ACCIDENT_DATE       45443 non-null object\n",
      "ACCIDENT_YEAR       45443 non-null int64\n",
      "X                   45443 non-null float64\n",
      "Y                   45443 non-null float64\n",
      "SEVERITY            45443 non-null object\n",
      "SEVERITY_CD         45443 non-null int64\n",
      "KILLED              45443 non-null float64\n",
      "A_INJURIES          45443 non-null int64\n",
      "B_INJURIES          45443 non-null float64\n",
      "C_INJURIES          45443 non-null float64\n",
      "CASE_NUM            45443 non-null object\n",
      "dtypes: float64(8), int64(4), object(12)\n",
      "memory usage: 8.7+ MB\n"
     ]
    }
   ],
   "source": [
    "df.info()"
   ]
  },
  {
   "cell_type": "code",
   "execution_count": 12,
   "metadata": {},
   "outputs": [
    {
     "name": "stdout",
     "output_type": "stream",
     "text": [
      "45443\n",
      "13384\n",
      "1472\n",
      "93\n",
      "38\n",
      "37\n"
     ]
    }
   ],
   "source": [
    "print(df['OBJECTID'].nunique())\n",
    "print(df['ADDRESS'].nunique())\n",
    "print(df['ACCIDENT_CAUSE'].nunique())\n",
    "print(df['COLLISION_DESC'].nunique())\n",
    "print(df['LIGHT_CONDITIONS'].nunique())\n",
    "print(df['ROAD_CLASS'].nunique())\n"
   ]
  },
  {
   "cell_type": "code",
   "execution_count": 13,
   "metadata": {},
   "outputs": [],
   "source": [
    "df = df.drop(['OBJECTID','ADDRESS' ],axis =1)\n",
    "df = df.drop(['ACCIDENT_CAUSE'], axis =1)"
   ]
  },
  {
   "cell_type": "code",
   "execution_count": 14,
   "metadata": {},
   "outputs": [
    {
     "name": "stdout",
     "output_type": "stream",
     "text": [
      "<class 'pandas.core.frame.DataFrame'>\n",
      "Int64Index: 45443 entries, 0 to 52044\n",
      "Data columns (total 21 columns):\n",
      "COLLISION_DESC      45443 non-null object\n",
      "WEATHER             45443 non-null object\n",
      "LIGHT_CONDITIONS    45443 non-null object\n",
      "ROAD_CLASS          45443 non-null object\n",
      "TRAFFIC_CONTROL     45443 non-null object\n",
      "PEDESTRIAN_REL      45443 non-null object\n",
      "HIT_RUN             45443 non-null object\n",
      "INJURED             45443 non-null float64\n",
      "FATALITY            45443 non-null float64\n",
      "TOTAL_DAMAGE        45443 non-null float64\n",
      "ACCIDENT_DATE       45443 non-null object\n",
      "ACCIDENT_YEAR       45443 non-null int64\n",
      "X                   45443 non-null float64\n",
      "Y                   45443 non-null float64\n",
      "SEVERITY            45443 non-null object\n",
      "SEVERITY_CD         45443 non-null int64\n",
      "KILLED              45443 non-null float64\n",
      "A_INJURIES          45443 non-null int64\n",
      "B_INJURIES          45443 non-null float64\n",
      "C_INJURIES          45443 non-null float64\n",
      "CASE_NUM            45443 non-null object\n",
      "dtypes: float64(8), int64(3), object(10)\n",
      "memory usage: 7.6+ MB\n"
     ]
    }
   ],
   "source": [
    "df.info()"
   ]
  },
  {
   "cell_type": "code",
   "execution_count": 15,
   "metadata": {},
   "outputs": [],
   "source": [
    "df = df.drop(['X','Y','CASE_NUM'], axis =1)"
   ]
  },
  {
   "cell_type": "code",
   "execution_count": 16,
   "metadata": {},
   "outputs": [
    {
     "data": {
      "text/plain": [
       "Index(['COLLISION_DESC', 'WEATHER', 'LIGHT_CONDITIONS', 'ROAD_CLASS',\n",
       "       'TRAFFIC_CONTROL', 'PEDESTRIAN_REL', 'HIT_RUN', 'ACCIDENT_DATE',\n",
       "       'SEVERITY'],\n",
       "      dtype='object')"
      ]
     },
     "execution_count": 16,
     "metadata": {},
     "output_type": "execute_result"
    }
   ],
   "source": [
    "df.select_dtypes(include=['object']).columns"
   ]
  },
  {
   "cell_type": "code",
   "execution_count": 17,
   "metadata": {},
   "outputs": [],
   "source": [
    "cat_cols = ['COLLISION_DESC', 'WEATHER', 'LIGHT_CONDITIONS', 'ROAD_CLASS',\n",
    "       'TRAFFIC_CONTROL', 'PEDESTRIAN_REL', 'HIT_RUN', 'ACCIDENT_DATE',\n",
    "       'SEVERITY']"
   ]
  },
  {
   "cell_type": "code",
   "execution_count": 18,
   "metadata": {},
   "outputs": [],
   "source": [
    "from sklearn.preprocessing import LabelEncoder\n"
   ]
  },
  {
   "cell_type": "code",
   "execution_count": 19,
   "metadata": {},
   "outputs": [],
   "source": [
    "df_1 = df.apply(LabelEncoder().fit_transform)\n"
   ]
  },
  {
   "cell_type": "code",
   "execution_count": 20,
   "metadata": {},
   "outputs": [],
   "source": [
    "#Splitting the data into independent and dependent variables\n",
    "X = df_1.drop(['WEATHER'], axis = 1)\n",
    "y = df_1['WEATHER']\n",
    "\n"
   ]
  },
  {
   "cell_type": "code",
   "execution_count": 21,
   "metadata": {},
   "outputs": [],
   "source": [
    "X_train, X_test, y_train, y_test = train_test_split(X, y, test_size = 0.25, random_state = 21)\n"
   ]
  },
  {
   "cell_type": "code",
   "execution_count": 22,
   "metadata": {},
   "outputs": [
    {
     "data": {
      "text/plain": [
       "RandomForestClassifier(bootstrap=True, class_weight=None, criterion='entropy',\n",
       "            max_depth=None, max_features='auto', max_leaf_nodes=None,\n",
       "            min_impurity_decrease=0.0, min_impurity_split=None,\n",
       "            min_samples_leaf=1, min_samples_split=2,\n",
       "            min_weight_fraction_leaf=0.0, n_estimators=10, n_jobs=None,\n",
       "            oob_score=False, random_state=42, verbose=0, warm_start=False)"
      ]
     },
     "execution_count": 22,
     "metadata": {},
     "output_type": "execute_result"
    }
   ],
   "source": [
    "# Fitting Random Forest Classification to the Training set\n",
    "classifier = RandomForestClassifier(n_estimators = 10, criterion = 'entropy', random_state = 42)\n",
    "classifier.fit(X_train, y_train)"
   ]
  },
  {
   "cell_type": "code",
   "execution_count": 23,
   "metadata": {},
   "outputs": [
    {
     "name": "stdout",
     "output_type": "stream",
     "text": [
      "==============================\n",
      "KNeighborsClassifier\n",
      "****Results****\n",
      "Accuracy: 70.6100%\n",
      "==============================\n",
      "DecisionTreeClassifier\n",
      "****Results****\n",
      "Accuracy: 75.7416%\n"
     ]
    },
    {
     "name": "stderr",
     "output_type": "stream",
     "text": [
      "C:\\Users\\sahit\\Anaconda3\\lib\\site-packages\\sklearn\\ensemble\\forest.py:246: FutureWarning: The default value of n_estimators will change from 10 in version 0.20 to 100 in 0.22.\n",
      "  \"10 in version 0.20 to 100 in 0.22.\", FutureWarning)\n"
     ]
    },
    {
     "name": "stdout",
     "output_type": "stream",
     "text": [
      "==============================\n",
      "RandomForestClassifier\n",
      "****Results****\n",
      "Accuracy: 70.4603%\n",
      "==============================\n",
      "AdaBoostClassifier\n",
      "****Results****\n",
      "Accuracy: 57.8470%\n",
      "==============================\n",
      "GradientBoostingClassifier\n",
      "****Results****\n",
      "Accuracy: 76.0320%\n",
      "==============================\n",
      "GaussianNB\n",
      "****Results****\n",
      "Accuracy: 65.7689%\n",
      "==============================\n"
     ]
    }
   ],
   "source": [
    "from sklearn.metrics import accuracy_score, log_loss\n",
    "from sklearn.neighbors import KNeighborsClassifier\n",
    "from sklearn.svm import SVC, LinearSVC, NuSVC\n",
    "from sklearn.tree import DecisionTreeClassifier\n",
    "from sklearn.ensemble import RandomForestClassifier, AdaBoostClassifier, GradientBoostingClassifier\n",
    "from sklearn.naive_bayes import GaussianNB\n",
    "from sklearn.discriminant_analysis import LinearDiscriminantAnalysis\n",
    "from sklearn.discriminant_analysis import QuadraticDiscriminantAnalysis\n",
    "\n",
    "classifiers = [\n",
    "    KNeighborsClassifier(3),\n",
    "    #SVC(kernel=\"rbf\", C=0.025, probability=True),\n",
    "    #NuSVC(probability=True),\n",
    "    DecisionTreeClassifier(),\n",
    "    RandomForestClassifier(),\n",
    "    AdaBoostClassifier(),\n",
    "    GradientBoostingClassifier(),\n",
    "    GaussianNB()]\n",
    "\n",
    "# Logging for Visual Comparison\n",
    "log_cols=[\"Classifier\", \"Accuracy\", \"Log Loss\"]\n",
    "log = pd.DataFrame(columns=log_cols)\n",
    "\n",
    "for clf in classifiers:\n",
    "    clf.fit(X_train, y_train)\n",
    "    name = clf.__class__.__name__\n",
    "    \n",
    "    print(\"=\"*30)\n",
    "    print(name)\n",
    "    \n",
    "    print('****Results****')\n",
    "    train_predictions = clf.predict(X_test)\n",
    "    acc = accuracy_score(y_test, train_predictions)\n",
    "    print(\"Accuracy: {:.4%}\".format(acc))\n",
    "    \n",
    "    #train_predictions = clf.predict_proba(X_test)\n",
    "    #ll = log_loss(y_test, train_predictions)\n",
    "    #print(\"Log Loss: {}\".format(ll))\n",
    "    \n",
    "    #log_entry = pd.DataFrame([[name, acc*100, ll]], columns=log_cols)\n",
    "    #log = log.append(log_entry)\n",
    "    \n",
    "print(\"=\"*30)"
   ]
  },
  {
   "cell_type": "code",
   "execution_count": 26,
   "metadata": {},
   "outputs": [
    {
     "name": "stdout",
     "output_type": "stream",
     "text": [
      "==============================\n",
      "KNeighborsClassifier\n",
      "*Results*\n",
      "       Actual_Value  Predict_Value\n",
      "22821             4              4\n",
      "41107             8              8\n",
      "48251             6              4\n",
      "38887             4              4\n",
      "16752             4              4\n",
      "Accuracy: 70.6100%\n",
      "==============================\n",
      "DecisionTreeClassifier\n",
      "*Results*\n",
      "       Actual_Value  Predict_Value\n",
      "22821             4              4\n",
      "41107             8              8\n",
      "48251             6              4\n",
      "38887             4              4\n",
      "16752             4              4\n",
      "Accuracy: 76.2609%\n"
     ]
    },
    {
     "name": "stderr",
     "output_type": "stream",
     "text": [
      "C:\\Users\\sahit\\Anaconda3\\lib\\site-packages\\sklearn\\ensemble\\forest.py:246: FutureWarning: The default value of n_estimators will change from 10 in version 0.20 to 100 in 0.22.\n",
      "  \"10 in version 0.20 to 100 in 0.22.\", FutureWarning)\n"
     ]
    },
    {
     "name": "stdout",
     "output_type": "stream",
     "text": [
      "==============================\n",
      "RandomForestClassifier\n",
      "*Results*\n",
      "       Actual_Value  Predict_Value\n",
      "22821             4              4\n",
      "41107             8              8\n",
      "48251             6              4\n",
      "38887             4              4\n",
      "16752             4              4\n",
      "Accuracy: 70.3019%\n",
      "==============================\n",
      "AdaBoostClassifier\n",
      "*Results*\n",
      "       Actual_Value  Predict_Value\n",
      "22821             4              4\n",
      "41107             8              4\n",
      "48251             6              4\n",
      "38887             4              4\n",
      "16752             4              4\n",
      "Accuracy: 57.8470%\n",
      "==============================\n",
      "GradientBoostingClassifier\n",
      "*Results*\n",
      "       Actual_Value  Predict_Value\n",
      "22821             4              4\n",
      "41107             8              8\n",
      "48251             6              4\n",
      "38887             4              4\n",
      "16752             4              4\n",
      "Accuracy: 76.0760%\n",
      "==============================\n",
      "GaussianNB\n",
      "*Results*\n",
      "       Actual_Value  Predict_Value\n",
      "22821             4              4\n",
      "41107             8              8\n",
      "48251             6              4\n",
      "38887             4              4\n",
      "16752             4              4\n",
      "Accuracy: 65.7689%\n",
      "==============================\n"
     ]
    }
   ],
   "source": [
    "from sklearn.metrics import accuracy_score, log_loss\n",
    "from sklearn.neighbors import KNeighborsClassifier\n",
    "from sklearn.svm import SVC, LinearSVC, NuSVC\n",
    "from sklearn.tree import DecisionTreeClassifier\n",
    "from sklearn.ensemble import RandomForestClassifier, AdaBoostClassifier, GradientBoostingClassifier\n",
    "from sklearn.naive_bayes import GaussianNB\n",
    "from sklearn.discriminant_analysis import LinearDiscriminantAnalysis\n",
    "from sklearn.discriminant_analysis import QuadraticDiscriminantAnalysis\n",
    "\n",
    "classifiers = [\n",
    "    KNeighborsClassifier(3),\n",
    "    #SVC(kernel=\"rbf\", C=0.025, probability=True),\n",
    "    #NuSVC(probability=True),\n",
    "    DecisionTreeClassifier(),\n",
    "    RandomForestClassifier(),\n",
    "    AdaBoostClassifier(),\n",
    "    GradientBoostingClassifier(),\n",
    "    GaussianNB()]\n",
    "\n",
    "# Logging for Visual Comparison\n",
    "log_cols=[\"Classifier\", \"Accuracy\", \"Log Loss\"]\n",
    "log = pd.DataFrame(columns=log_cols)\n",
    "\n",
    "for clf in classifiers:\n",
    "    clf.fit(X_train, y_train)\n",
    "    name = clf.__class__.__name__\n",
    "    print(\"=\"*30)\n",
    "    print(name)\n",
    "    \n",
    "    print('*Results*')\n",
    "    train_predictions = clf.predict(X_test)\n",
    "    acc = accuracy_score(y_test, train_predictions)\n",
    "    df_predict = pd.DataFrame()\n",
    "    df_predict['Actual_Value'] = y_test\n",
    "    df_predict['Predict_Value'] = (train_predictions)\n",
    "    print(df_predict.head(5))\n",
    "\n",
    "    print(\"Accuracy: {:.4%}\".format(acc))\n",
    "    \n",
    "    #train_predictions = clf.predict_proba(X_test)\n",
    "    #ll = log_loss(y_test, train_predictions)\n",
    "    #print(\"Log Loss: {}\".format(ll))\n",
    "    \n",
    "    #log_entry = pd.DataFrame([[name, acc*100, ll]], columns=log_cols)\n",
    "    #log = log.append(log_entry)\n",
    "    \n",
    "print(\"=\"*30)"
   ]
  },
  {
   "cell_type": "code",
   "execution_count": null,
   "metadata": {},
   "outputs": [],
   "source": []
  },
  {
   "cell_type": "code",
   "execution_count": null,
   "metadata": {},
   "outputs": [],
   "source": []
  }
 ],
 "metadata": {
  "kernelspec": {
   "display_name": "Python 3",
   "language": "python",
   "name": "python3"
  },
  "language_info": {
   "codemirror_mode": {
    "name": "ipython",
    "version": 3
   },
   "file_extension": ".py",
   "mimetype": "text/x-python",
   "name": "python",
   "nbconvert_exporter": "python",
   "pygments_lexer": "ipython3",
   "version": "3.7.1"
  }
 },
 "nbformat": 4,
 "nbformat_minor": 2
}
